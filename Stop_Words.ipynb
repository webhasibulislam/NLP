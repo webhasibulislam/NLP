{
  "nbformat": 4,
  "nbformat_minor": 0,
  "metadata": {
    "colab": {
      "provenance": []
    },
    "kernelspec": {
      "name": "python3",
      "display_name": "Python 3"
    },
    "language_info": {
      "name": "python"
    }
  },
  "cells": [
    {
      "cell_type": "code",
      "execution_count": 1,
      "metadata": {
        "colab": {
          "base_uri": "https://localhost:8080/"
        },
        "id": "0giAyzYXuBps",
        "outputId": "4e05119b-4e45-46d6-a3fb-b8517c5c114d"
      },
      "outputs": [
        {
          "output_type": "execute_result",
          "data": {
            "text/plain": [
              "326"
            ]
          },
          "metadata": {},
          "execution_count": 1
        }
      ],
      "source": [
        "import spacy\n",
        "\n",
        "from spacy.lang.en.stop_words import STOP_WORDS\n",
        "\n",
        "len(STOP_WORDS)"
      ]
    },
    {
      "cell_type": "code",
      "source": [
        "nlp = spacy.load(\"en_core_web_sm\")\n",
        "\n",
        "doc = nlp(\"We just opened our wings, the flying part is coming soon\")\n",
        "\n",
        "for token in doc:\n",
        "    if token.is_stop:\n",
        "        print(token)"
      ],
      "metadata": {
        "colab": {
          "base_uri": "https://localhost:8080/"
        },
        "id": "3emCT7W_uF70",
        "outputId": "4346b7f7-1ae0-41e2-d2de-4b37173b5e82"
      },
      "execution_count": 2,
      "outputs": [
        {
          "output_type": "stream",
          "name": "stdout",
          "text": [
            "We\n",
            "just\n",
            "our\n",
            "the\n",
            "part\n",
            "is\n"
          ]
        }
      ]
    },
    {
      "cell_type": "code",
      "source": [
        "def preprocess(text):\n",
        "    doc = nlp(text)\n",
        "\n",
        "    no_stop_words = [token.text for token in doc if not token.is_stop]\n",
        "    return \" \".join(no_stop_words)"
      ],
      "metadata": {
        "id": "osGYGx0KuUnp"
      },
      "execution_count": 3,
      "outputs": []
    },
    {
      "cell_type": "code",
      "source": [
        "preprocess(\"The easy calculation of probabilities for the words in corpus(Bag of words) and storing them in contigency table is the major reason for the Multinomial NaiveBayes to be a text classification friendly algorithm.\")"
      ],
      "metadata": {
        "colab": {
          "base_uri": "https://localhost:8080/",
          "height": 53
        },
        "id": "MnK_IQiEuhJl",
        "outputId": "bd6a2046-aff2-453a-a239-d5a7950fdde1"
      },
      "execution_count": 5,
      "outputs": [
        {
          "output_type": "execute_result",
          "data": {
            "text/plain": [
              "'easy calculation probabilities words corpus(Bag words ) storing contigency table major reason Multinomial NaiveBayes text classification friendly algorithm .'"
            ],
            "application/vnd.google.colaboratory.intrinsic+json": {
              "type": "string"
            }
          },
          "metadata": {},
          "execution_count": 5
        }
      ]
    },
    {
      "cell_type": "code",
      "source": [
        "text = '''\n",
        "Thor: Love and Thunder is a 2022 American superhero film based on Marvel Comics featuring the character Thor, produced by Marvel Studios and\n",
        "distributed by Walt Disney Studios Motion Pictures. It is the sequel to Thor: Ragnarok (2017) and the 29th film in the Marvel Cinematic Universe (MCU).\n",
        "The film is directed by Taika Waititi, who co-wrote the script with Jennifer Kaytin Robinson, and stars Chris Hemsworth as Thor alongside Christian Bale, Tessa Thompson,\n",
        "Jaimie Alexander, Waititi, Russell Crowe, and Natalie Portman. In the film, Thor attempts to find inner peace, but must return to action and recruit Valkyrie (Thompson),\n",
        "Korg (Waititi), and Jane Foster (Portman)—who is now the Mighty Thor—to stop Gorr the God Butcher (Bale) from eliminating all gods.\n",
        "'''\n",
        "\n",
        "#step1: Create the object 'doc' for the given text using nlp()\n",
        "doc = nlp(text)\n",
        "\n",
        "\n",
        "#step2: define the variables to keep track of stopwords count and total words count\n",
        "stop_words_count = 0\n",
        "total_words_count = 0\n",
        "\n",
        "\n",
        "#step3: iterate through all the words in the document\n",
        "for token in doc:\n",
        "  if token.is_stop:         #check whether given token is stop word or not and increment accordingly\n",
        "    stop_words_count += 1\n",
        "  total_words_count +=  1   #increment the total_words_count\n",
        "\n",
        "\n",
        "#step4: print the count of stop words\n",
        "print(f\"Total Stop words presented in the given text: {stop_words_count}\")\n",
        "\n",
        "\n",
        "#step5: print the percentage of stop words compared to total words in the text\n",
        "percentage_stop_words = (stop_words_count / total_words_count) * 100\n",
        "print(f\"Percentage of Stop words presented in the given text: {percentage_stop_words} %\")"
      ],
      "metadata": {
        "colab": {
          "base_uri": "https://localhost:8080/"
        },
        "id": "obe9yYObvZhT",
        "outputId": "32f1cc72-5fd0-4f15-e61a-7c3f6fd33482"
      },
      "execution_count": 7,
      "outputs": [
        {
          "output_type": "stream",
          "name": "stdout",
          "text": [
            "Total Stop words presented in the given text: 40\n",
            "Percentage of Stop words presented in the given text: 25.0 %\n"
          ]
        }
      ]
    },
    {
      "cell_type": "code",
      "source": [],
      "metadata": {
        "id": "HjlHLb2avfpx"
      },
      "execution_count": null,
      "outputs": []
    }
  ]
}