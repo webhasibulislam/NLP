{
 "cells": [
  {
   "cell_type": "code",
   "execution_count": 1,
   "id": "330f407b-7eaf-4f7e-886c-f86859a7d16c",
   "metadata": {},
   "outputs": [],
   "source": [
    "import spacy"
   ]
  },
  {
   "cell_type": "markdown",
   "id": "d32154f8-b710-41f5-8efe-5a9fe6f956e8",
   "metadata": {},
   "source": [
    "# POS tag"
   ]
  },
  {
   "cell_type": "code",
   "execution_count": 7,
   "id": "87dd69e3-92fa-4c35-bea5-15758e083d97",
   "metadata": {},
   "outputs": [
    {
     "name": "stdout",
     "output_type": "stream",
     "text": [
      "Elon  |  PROPN  |  proper noun\n",
      "flew  |  VERB  |  verb\n",
      "to  |  ADP  |  adposition\n",
      "mars  |  NOUN  |  noun\n",
      "yesterday  |  NOUN  |  noun\n",
      ".  |  PUNCT  |  punctuation\n",
      "He  |  PRON  |  pronoun\n",
      "carried  |  VERB  |  verb\n",
      "biryani  |  ADJ  |  adjective\n",
      "masala  |  NOUN  |  noun\n",
      "with  |  ADP  |  adposition\n",
      "him  |  PRON  |  pronoun\n"
     ]
    }
   ],
   "source": [
    "nlp = spacy.load(\"en_core_web_sm\")\n",
    "doc = nlp(\"Elon flew to mars yesterday. He carried biryani masala with him\")\n",
    "\n",
    "for token in doc:\n",
    "    print(token, \" | \", token.pos_  , \" | \", spacy.explain(token.pos_)) "
   ]
  },
  {
   "cell_type": "markdown",
   "id": "9d967adb-775f-438c-8697-b8374d319c3e",
   "metadata": {},
   "source": [
    "# Tag"
   ]
  },
  {
   "cell_type": "code",
   "execution_count": 8,
   "id": "b91d0a61-4c04-40f6-b771-5223e46f275b",
   "metadata": {},
   "outputs": [
    {
     "name": "stdout",
     "output_type": "stream",
     "text": [
      "Wow  |  INTJ  |  interjection  |  UH  |  interjection\n",
      "!  |  PUNCT  |  punctuation  |  .  |  punctuation mark, sentence closer\n",
      "Dr.  |  PROPN  |  proper noun  |  NNP  |  noun, proper singular\n",
      "Strange  |  PROPN  |  proper noun  |  NNP  |  noun, proper singular\n",
      "made  |  VERB  |  verb  |  VBD  |  verb, past tense\n",
      "265  |  NUM  |  numeral  |  CD  |  cardinal number\n",
      "million  |  NUM  |  numeral  |  CD  |  cardinal number\n",
      "$  |  NUM  |  numeral  |  CD  |  cardinal number\n",
      "on  |  ADP  |  adposition  |  IN  |  conjunction, subordinating or preposition\n",
      "the  |  DET  |  determiner  |  DT  |  determiner\n",
      "very  |  ADV  |  adverb  |  RB  |  adverb\n",
      "first  |  ADJ  |  adjective  |  JJ  |  adjective (English), other noun-modifier (Chinese)\n",
      "day  |  NOUN  |  noun  |  NN  |  noun, singular or mass\n"
     ]
    }
   ],
   "source": [
    "doc = nlp(\"Wow! Dr. Strange made 265 million $ on the very first day\")\n",
    "\n",
    "for token in doc:\n",
    "    print(token,\" | \", token.pos_, \" | \", spacy.explain(token.pos_), \" | \", token.tag_, \" | \", spacy.explain(token.tag_))\n"
   ]
  },
  {
   "cell_type": "markdown",
   "id": "7530596e-2350-4bea-99bf-ba91118a3750",
   "metadata": {},
   "source": [
    "# In below sentences Spacy figures out the past vs present tense for quit "
   ]
  },
  {
   "cell_type": "code",
   "execution_count": 9,
   "id": "52258b12-6cac-46e6-a421-ac11785e3348",
   "metadata": {},
   "outputs": [
    {
     "name": "stdout",
     "output_type": "stream",
     "text": [
      "quits | VBZ | verb, 3rd person singular present\n"
     ]
    }
   ],
   "source": [
    "doc = nlp(\"He quits the job\")\n",
    "\n",
    "print(doc[1].text, \"|\", doc[1].tag_, \"|\", spacy.explain(doc[1].tag_))"
   ]
  },
  {
   "cell_type": "code",
   "execution_count": 10,
   "id": "41a4a55c-62cb-42f7-bd23-f63fa90ad060",
   "metadata": {},
   "outputs": [
    {
     "name": "stdout",
     "output_type": "stream",
     "text": [
      "quit | VBD | verb, past tense\n"
     ]
    }
   ],
   "source": [
    "doc = nlp(\"he quit the job\")\n",
    "\n",
    "print(doc[1].text, \"|\", doc[1].tag_, \"|\", spacy.explain(doc[1].tag_))\n"
   ]
  },
  {
   "cell_type": "markdown",
   "id": "6c4fa1b8-946b-420b-838c-ab93c54b114f",
   "metadata": {},
   "source": [
    "# Removing all SPACE, PUNCT and X token from text"
   ]
  },
  {
   "cell_type": "code",
   "execution_count": 11,
   "id": "4118b3d5-c6a0-42c2-a201-630a68f5c48d",
   "metadata": {},
   "outputs": [],
   "source": [
    "earnings_text=\"\"\"Microsoft Corp. today announced the following results for the quarter ended December 31, 2021, as compared to the corresponding period of last fiscal year:\n",
    "·         Revenue was $51.7 billion and increased 20%\n",
    "·         Operating income was $22.2 billion and increased 24%\n",
    "·         Net income was $18.8 billion and increased 21%\n",
    "·         Diluted earnings per share was $2.48 and increased 22%\n",
    "“Digital technology is the most malleable resource at the world’s disposal to overcome constraints and reimagine everyday work and life,” said Satya Nadella, chairman and chief executive officer of Microsoft. “As tech as a percentage of global GDP continues to increase, we are innovating and investing across diverse and growing markets, with a common underlying technology stack and an operating model that reinforces a common strategy, culture, and sense of purpose.”\n",
    "“Solid commercial execution, represented by strong bookings growth driven by long-term Azure commitments, increased Microsoft Cloud revenue to $22.1 billion, up 32% year over year” said Amy Hood, executive vice president and chief financial officer of Microsoft.\"\"\""
   ]
  },
  {
   "cell_type": "code",
   "execution_count": 15,
   "id": "ec30e3d9-354b-4955-b5ce-75588f284b9b",
   "metadata": {},
   "outputs": [
    {
     "name": "stdout",
     "output_type": "stream",
     "text": [
      ",  |  PUNCT  |  ,\n",
      ",  |  PUNCT  |  ,\n",
      ":  |  PUNCT  |  :\n",
      "\n",
      "  |  SPACE  |  _SP\n",
      "·  |  PUNCT  |  NFP\n",
      "          |  SPACE  |  _SP\n",
      "\n",
      "  |  SPACE  |  _SP\n",
      "·  |  PUNCT  |  NFP\n",
      "          |  SPACE  |  _SP\n",
      "\n",
      "  |  SPACE  |  _SP\n",
      "·  |  PUNCT  |  NFP\n",
      "          |  SPACE  |  _SP\n",
      "\n",
      "  |  SPACE  |  _SP\n",
      "·  |  PUNCT  |  NFP\n",
      "          |  SPACE  |  _SP\n",
      "\n",
      "  |  SPACE  |  _SP\n",
      "“  |  PUNCT  |  ``\n",
      ",  |  PUNCT  |  ,\n",
      "”  |  PUNCT  |  ''\n",
      ",  |  PUNCT  |  ,\n",
      ".  |  PUNCT  |  .\n",
      "“  |  PUNCT  |  ``\n",
      ",  |  PUNCT  |  ,\n",
      ",  |  PUNCT  |  ,\n",
      ",  |  PUNCT  |  ,\n",
      ",  |  PUNCT  |  ,\n",
      ".  |  PUNCT  |  .\n",
      "”  |  PUNCT  |  ''\n",
      "\n",
      "  |  SPACE  |  _SP\n",
      "“  |  PUNCT  |  ``\n",
      ",  |  PUNCT  |  ,\n",
      "-  |  PUNCT  |  HYPH\n",
      ",  |  PUNCT  |  ,\n",
      ",  |  PUNCT  |  ,\n",
      "”  |  PUNCT  |  ''\n",
      ",  |  PUNCT  |  ,\n",
      ".  |  PUNCT  |  .\n"
     ]
    }
   ],
   "source": [
    "doc = nlp(earnings_text)\n",
    "\n",
    "for token in doc:\n",
    "    if token.pos_ in ['SPACE', 'PUNCT', 'X']:\n",
    "        print(token, \" | \", token.pos_, \" | \", token.tag_)"
   ]
  },
  {
   "cell_type": "code",
   "execution_count": 17,
   "id": "87568fb6-bb13-4dae-a2a1-90f3ac89d1ab",
   "metadata": {},
   "outputs": [],
   "source": [
    "doc = nlp(earnings_text)\n",
    "\n",
    "filtered_text = []\n",
    "for token in doc:\n",
    "    if token.pos_ not in ['SPACE', 'PUNCT', 'X']:\n",
    "        filtered_text.append(token)"
   ]
  },
  {
   "cell_type": "code",
   "execution_count": 20,
   "id": "dc42400a-b91a-4458-992e-21ad6b1e48de",
   "metadata": {},
   "outputs": [
    {
     "data": {
      "text/plain": [
       "[Microsoft,\n",
       " Corp.,\n",
       " today,\n",
       " announced,\n",
       " the,\n",
       " following,\n",
       " results,\n",
       " for,\n",
       " the,\n",
       " quarter,\n",
       " ended,\n",
       " December,\n",
       " 31,\n",
       " 2021,\n",
       " as]"
      ]
     },
     "execution_count": 20,
     "metadata": {},
     "output_type": "execute_result"
    }
   ],
   "source": [
    "filtered_text[:15]"
   ]
  },
  {
   "cell_type": "raw",
   "id": "43ca09a0-ce7c-4d07-bb8d-1e9803e0539c",
   "metadata": {},
   "source": []
  },
  {
   "cell_type": "code",
   "execution_count": null,
   "id": "ff49ae2b-fea0-4353-b6fb-100f9d7ad537",
   "metadata": {},
   "outputs": [],
   "source": []
  }
 ],
 "metadata": {
  "kernelspec": {
   "display_name": "Python 3 (ipykernel)",
   "language": "python",
   "name": "python3"
  },
  "language_info": {
   "codemirror_mode": {
    "name": "ipython",
    "version": 3
   },
   "file_extension": ".py",
   "mimetype": "text/x-python",
   "name": "python",
   "nbconvert_exporter": "python",
   "pygments_lexer": "ipython3",
   "version": "3.12.3"
  }
 },
 "nbformat": 4,
 "nbformat_minor": 5
}
